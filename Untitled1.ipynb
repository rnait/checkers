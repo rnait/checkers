{
 "cells": [
  {
   "cell_type": "code",
   "execution_count": 1,
   "metadata": {},
   "outputs": [
    {
     "data": {
      "text/plain": [
       "2"
      ]
     },
     "execution_count": 1,
     "metadata": {},
     "output_type": "execute_result"
    }
   ],
   "source": [
    "(+ 1 1 )"
   ]
  },
  {
   "cell_type": "code",
   "execution_count": 2,
   "metadata": {},
   "outputs": [
    {
     "data": {
      "text/plain": [
       "true"
      ]
     },
     "execution_count": 2,
     "metadata": {},
     "output_type": "execute_result"
    }
   ],
   "source": [
    "(= #{1 2 3} #{3 2 1})"
   ]
  },
  {
   "cell_type": "code",
   "execution_count": 3,
   "metadata": {},
   "outputs": [
    {
     "data": {
      "text/plain": [
       "true"
      ]
     },
     "execution_count": 3,
     "metadata": {},
     "output_type": "execute_result"
    }
   ],
   "source": [
    "(contains? #{1 2 3 } 3)"
   ]
  },
  {
   "cell_type": "code",
   "execution_count": 4,
   "metadata": {},
   "outputs": [
    {
     "data": {
      "text/plain": [
       "#'user/db"
      ]
     },
     "execution_count": 4,
     "metadata": {},
     "output_type": "execute_result"
    }
   ],
   "source": [
    "(def db {:name \"re-frame\", :board {[0 1] {:color \"b\", :name \"p\"}, [1 2] {:color \"b\", :name \"p\"}, [0 5] {:color \"b\", :name \"p\"}, [0 0] {:color \"b\", :name \"p\"}, [5 3] {:color \"b\", :name \"p\"}, [1 5] {:color \"b\", :name \"p\"}, [7 1] {:color \"w\", :name \"p\"}, [0 7] {:color \"b\", :name \"p\"}, [7 2] {:color \"w\", :name \"p\"}, [7 0] {:color \"w\", :name \"p\"}, [0 2] {:color \"b\", :name \"p\"}, [2 7] {:color \"w\", :name \"p\"}, [0 6] {:color \"b\", :name \"p\"}, [1 1] {:color \"b\", :name \"p\"}, [6 0] {:color \"w\", :name \"p\"}, [7 4] {:color \"w\", :name \"p\"}, [7 7] {:color \"w\", :name \"p\"}, [6 3] {:color \"w\", :name \"p\"}, [6 6] {:color \"w\", :name \"p\"}, [1 4] {:color \"b\", :name \"p\"}, [1 7] {:color \"b\", :name \"p\"}, [0 3] {:color \"b\", :name \"p\"}, [6 5] {:color \"w\", :name \"p\"}, [7 5] {:color \"w\", :name \"p\"}, [6 1] {:color \"w\", :name \"p\"}, [1 6] {:color \"b\", :name \"p\"}, [1 0] {:color \"b\", :name \"p\"}, [7 3] {:color \"w\", :name \"p\"}, [6 2] {:color \"w\", :name \"p\"}, [6 4] {:color \"w\", :name \"p\"}, [0 4] {:color \"b\", :name \"p\"}, [7 6] {:color \"w\", :name \"p\"}}, :temp_layer {}, :turn \"w\", :moving {}})"
   ]
  },
  {
   "cell_type": "code",
   "execution_count": 6,
   "metadata": {},
   "outputs": [
    {
     "data": {
      "text/plain": [
       "\"w\""
      ]
     },
     "execution_count": 6,
     "metadata": {},
     "output_type": "execute_result"
    }
   ],
   "source": [
    "(:turn db)"
   ]
  },
  {
   "cell_type": "code",
   "execution_count": null,
   "metadata": {},
   "outputs": [],
   "source": []
  }
 ],
 "metadata": {
  "kernelspec": {
   "display_name": "Clojure (clojupyter=0.3.2=1)",
   "language": "clojure",
   "name": "conda-clojupyter"
  },
  "language_info": {
   "file_extension": ".clj",
   "mimetype": "text/x-clojure",
   "name": "clojure",
   "version": "1.10.1"
  }
 },
 "nbformat": 4,
 "nbformat_minor": 4
}
